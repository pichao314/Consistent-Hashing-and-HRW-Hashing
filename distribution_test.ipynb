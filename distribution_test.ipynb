{
 "cells": [
  {
   "cell_type": "code",
   "execution_count": 1,
   "metadata": {},
   "outputs": [],
   "source": [
    "from server_config import NODES\n",
    "from RendezvousHashing import HRW\n",
    "from ConsistentHashing import CH\n",
    "from sample_data import USERS\n",
    "from pickle_hash import serialize_PUT\n",
    "import string\n",
    "import random"
   ]
  },
  {
   "cell_type": "code",
   "execution_count": 2,
   "metadata": {},
   "outputs": [],
   "source": [
    "def randomString(stringLength=8):\n",
    "    letters = string.ascii_lowercase\n",
    "    return ''.join(random.choice(letters) for i in range(stringLength))"
   ]
  },
  {
   "cell_type": "code",
   "execution_count": 3,
   "metadata": {},
   "outputs": [],
   "source": [
    "#generate test set\n",
    "testset = []\n",
    "for i in range(1000):\n",
    "    #generate random object\n",
    "    name = randomString()\n",
    "    user = {'name':name,\"email\":name + \"@email.com\",\"age\":random.randint(0,100)}\n",
    "    data_bytes, key = serialize_PUT(user)\n",
    "    # first find out the nodes by the key, then send the data by that client\n",
    "    testset.append(key)"
   ]
  },
  {
   "cell_type": "code",
   "execution_count": 4,
   "metadata": {},
   "outputs": [],
   "source": [
    "def test(R,keys):\n",
    "    # create a ring with provided Nodes sockets\n",
    "    ring = R\n",
    "    # calculate distribution\n",
    "    dist = [0] * len(NODES)\n",
    "    # get the node socket of provided md5 hash value\n",
    "    for key in keys:\n",
    "        node = ring.get_node(key)[0]['port']%len(NODES)\n",
    "        dist[node] += 1\n",
    "    return(dist)\n",
    "CH_ring = CH(nodes=NODES)\n",
    "HRW_ring = HRW(nodes=NODES)\n",
    "HRW_dist = test(HRW_ring,testset)\n",
    "CH_dist = test(CH_ring,testset)"
   ]
  },
  {
   "cell_type": "code",
   "execution_count": 5,
   "metadata": {},
   "outputs": [
    {
     "data": {
      "image/png": "[encoded data removed]",
      "text/plain": [
       "<Figure size 432x288 with 1 Axes>"
      ]
     },
     "metadata": {
      "needs_background": "light"
     },
     "output_type": "display_data"
    }
   ],
   "source": [
    "import matplotlib\n",
    "import matplotlib.pyplot as plt\n",
    "import numpy as np\n",
    "\n",
    "\n",
    "labels = [f'Node#{i}' for i in range(4)]\n",
    "\n",
    "x = np.arange(len(labels))  # the label locations\n",
    "width = 0.35  # the width of the bars\n",
    "\n",
    "fig, ax = plt.subplots()\n",
    "rects1 = ax.bar(x - width/2, CH_dist, width, label='CH')\n",
    "rects2 = ax.bar(x + width/2, HRW_dist, width, label='HRW')\n",
    "\n",
    "# Add some text for labels, title and custom x-axis tick labels, etc.\n",
    "ax.set_ylabel('Node Counts')\n",
    "ax.set_title('Count Key Distribution')\n",
    "ax.set_xticks(x)\n",
    "ax.set_xticklabels(labels)\n",
    "ax.legend()\n",
    "\n",
    "\n",
    "def autolabel(rects):\n",
    "    for rect in rects:\n",
    "        height = rect.get_height()\n",
    "        ax.annotate('{}'.format(height),\n",
    "                    xy=(rect.get_x() + rect.get_width() / 2, height),\n",
    "                    xytext=(0, 3),  # 3 points vertical offset\n",
    "                    textcoords=\"offset points\",\n",
    "                    ha='center', va='bottom')\n",
    "\n",
    "\n",
    "autolabel(rects1)\n",
    "autolabel(rects2)\n",
    "\n",
    "fig.tight_layout()\n",
    "\n",
    "plt.show()\n"
   ]
  },
  {
   "cell_type": "code",
   "execution_count": null,
   "metadata": {},
   "outputs": [],
   "source": []
  }
 ],
 "metadata": {
  "kernelspec": {
   "display_name": "Python 3",
   "language": "python",
   "name": "python3"
  },
  "language_info": {
   "codemirror_mode": {
    "name": "ipython",
    "version": 3
   },
   "file_extension": ".py",
   "mimetype": "text/x-python",
   "name": "python",
   "nbconvert_exporter": "python",
   "pygments_lexer": "ipython3",
   "version": "3.8.1"
  }
 },
 "nbformat": 4,
 "nbformat_minor": 4
}
