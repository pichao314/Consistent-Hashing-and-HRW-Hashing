{
 "cells": [
  {
   "cell_type": "code",
   "execution_count": 1,
   "metadata": {},
   "outputs": [],
   "source": [
    "from functools import wraps\n",
    "import mmh3"
   ]
  },
  {
   "cell_type": "code",
   "execution_count": 2,
   "metadata": {},
   "outputs": [],
   "source": [
    "# node with their sockets\n",
    "from server_config import NODES\n",
    "\n",
    "class HRW():\n",
    "    # creator of ring\n",
    "    def __init__(self, nodes):\n",
    "        assert len(nodes) > 0\n",
    "        self.nodes = nodes\n",
    "\n",
    "    # get node's socket by index\n",
    "    def get_node(self, key_hex):\n",
    "        # the md5 hash was digest by hex, so convert to int base on 16\n",
    "        key = int(key_hex, 16)\n",
    "        # get the node index by modulus\n",
    "        node_index = key % len(self.nodes)\n",
    "        # return the socket of the node\n",
    "        return self.nodes[node_index]\n",
    "\n",
    "    def hrw(self,key_hex):\n",
    "        weights = [mmh3.hash(key_hex,i) for i in range(len(NODES))]\n",
    "        node_index = weights.index(max(weights))\n",
    "        return self.nodes[node_index]"
   ]
  },
  {
   "cell_type": "code",
   "execution_count": 3,
   "metadata": {},
   "outputs": [],
   "source": [
    "def test():\n",
    "    # create a ring with provided Nodes sockets\n",
    "    ring = HRW(nodes=NODES)\n",
    "    # get the node socket of provided md5 hash value\n",
    "    node = ring.get_node('9ad5794ec94345c4873c4e591788743a')\n",
    "    print(node)\n",
    "    print(ring.get_node('ed9440c442632621b608521b3f2650b8'))\n",
    "    node2 = ring.hrw('9ad5794ec94345c4873c4e591788743a')\n",
    "    print(node2)\n",
    "    print(ring.hrw('ed9440c442632621b608521b3f2650b8'))"
   ]
  },
  {
   "cell_type": "code",
   "execution_count": 4,
   "metadata": {},
   "outputs": [
    {
     "name": "stdout",
     "output_type": "stream",
     "text": [
      "{'host': '127.0.0.1', 'port': 4002}\n",
      "{'host': '127.0.0.1', 'port': 4000}\n",
      "{'host': '127.0.0.1', 'port': 4003}\n",
      "{'host': '127.0.0.1', 'port': 4002}\n"
     ]
    }
   ],
   "source": [
    "test()"
   ]
  },
  {
   "cell_type": "code",
   "execution_count": 5,
   "metadata": {},
   "outputs": [],
   "source": [
    "import bisect\n",
    "class CH():\n",
    "    # init the consistent node ring\n",
    "    def __init__(self, nodes,replication_factor = 8):\n",
    "        assert len(nodes) > 0\n",
    "        self.nodes = nodes\n",
    "        # maximum slot numbers\n",
    "        self.M = pow(2,32)\n",
    "        # number of replica vnode\n",
    "        self.rep = replication_factor\n",
    "        # record the location of node as a hash code on the ring\n",
    "        self.nodering = []\n",
    "        # record the hash-node mapping\n",
    "        self.nodehash = {}\n",
    "        # initiate the ring\n",
    "        for node in self.nodes:\n",
    "            self.add_node(node)\n",
    "    # add a node to the ring\n",
    "    def add_node(self,node):\n",
    "        # first get the hash by node name\n",
    "        _hash = mmh3.hash(str(node).encode()) % self.M\n",
    "        # add hash-node mapping to dict\n",
    "        self.nodehash[_hash] = node\n",
    "        # add ndoe to the ring\n",
    "        self.nodering.append(_hash)\n",
    "        # genereate virtual nodes\n",
    "        for i in range(self.rep):\n",
    "            # generate hash code of vnode by name\n",
    "            v_hash = mmh3.hash((str(node)+f\"#{i}\").encode()) % self.M\n",
    "            self.nodehash[v_hash] = node\n",
    "            self.nodering.append(v_hash)\n",
    "        # sort the ring\n",
    "        self.nodering.sort()\n",
    "    # remove a node\n",
    "    def remove_node(self,node):\n",
    "        # store node and relative vnode in a remove list\n",
    "        rmlist = []\n",
    "        # get hash of the node and vnode\n",
    "        _hash = mmh3.hash(str(node).encode()) % self.M\n",
    "        rmlist.append(nodering.append(_hash))\n",
    "        for i in range(self.rep):\n",
    "            v_hash = mmh3.hash((str(node)+f\"#{i}\").encode()) % self.M\n",
    "            rmlist.append(v_hash)\n",
    "        #find these node and remove them from ring and dict\n",
    "        for each in rmlist:\n",
    "            self.nodering.remove(each)\n",
    "            self.nodehash.pop(each)\n",
    "    # get the node index of a provided key, as well as the next node for data replication\n",
    "    def get_node(self, key):\n",
    "        # get key hash\n",
    "        k_hash = mmh3.hash(key) % self.M\n",
    "        # find the node by binary search\n",
    "        n_i = bisect.bisect_left(self.nodering,k_hash) % len(self.nodering)\n",
    "        node_list = []\n",
    "        node_list.append(self.nodehash[self.nodering[n_i]])\n",
    "        n_nxt = (n_i + 1) % len(self.nodering)\n",
    "        # avoid same data replication in same actual node\n",
    "        while self.nodehash[self.nodering[n_i]] == self.nodehash[self.nodering[n_nxt]]:\n",
    "            n_nxt = (n_nxt + 1) % len(self.nodering)\n",
    "        node_list.append(self.nodehash[self.nodering[n_nxt]])\n",
    "        return node_list\n",
    "    # pring node ring and dict\n",
    "    def check(self):\n",
    "        print(self.nodering)\n",
    "        print(self.nodehash)"
   ]
  },
  {
   "cell_type": "code",
   "execution_count": 6,
   "metadata": {},
   "outputs": [],
   "source": [
    "import string\n",
    "import random\n",
    "def randomString(stringLength=8):\n",
    "    letters = string.ascii_lowercase\n",
    "    return ''.join(random.choice(letters) for i in range(stringLength))"
   ]
  },
  {
   "cell_type": "code",
   "execution_count": 7,
   "metadata": {},
   "outputs": [],
   "source": [
    "from sample_data import USERS\n",
    "from pickle_hash import serialize_PUT\n",
    "import string\n",
    "import random\n",
    "\n",
    "def randomString(stringLength=8):\n",
    "    letters = string.ascii_lowercase\n",
    "    return ''.join(random.choice(letters) for i in range(stringLength))\n",
    "\n",
    "#generate test set\n",
    "test = []\n",
    "for i in range(1000):\n",
    "    #generate random object\n",
    "    name = randomString()\n",
    "    user = {'name':name,\"email\":name + \"@email.com\",\"age\":random.randint(0,100)}\n",
    "    data_bytes, key = serialize_PUT(user)\n",
    "    # first find out the nodes by the key, then send the data by that client\n",
    "    test.append(key)\n",
    "\n",
    "CH_ring = CH(nodes=NODES)\n",
    "HRW_ring = HRW(nodes=NODES)"
   ]
  },
  {
   "cell_type": "code",
   "execution_count": 8,
   "metadata": {},
   "outputs": [
    {
     "name": "stdout",
     "output_type": "stream",
     "text": [
      "[243, 267, 235, 255]\n"
     ]
    }
   ],
   "source": [
    "def test_HRW(R,keys):\n",
    "    # create a ring with provided Nodes sockets\n",
    "    ring = R\n",
    "    # calculate distribution\n",
    "    dist = [0]*len(NODES)\n",
    "    # get the node socket of provided md5 hash value\n",
    "    for key in keys:\n",
    "        node = ring.hrw(key)['port']%len(dist)\n",
    "        dist[node] += 1\n",
    "    print(dist)\n",
    "test_HRW(HRW_ring,test)"
   ]
  },
  {
   "cell_type": "code",
   "execution_count": 9,
   "metadata": {},
   "outputs": [
    {
     "name": "stdout",
     "output_type": "stream",
     "text": [
      "[249, 377, 234, 140]\n"
     ]
    }
   ],
   "source": [
    "def test_CH(R,keys):\n",
    "    # create a ring with provided Nodes sockets\n",
    "    ring = R\n",
    "    # calculate distribution\n",
    "    dist = [0]*len(NODES)\n",
    "    # get the node socket of provided md5 hash value\n",
    "    for key in keys:\n",
    "        node = ring.get_node(key)[0]['port']%len(dist)\n",
    "        dist[node] += 1\n",
    "    print(dist)\n",
    "test_CH(CH_ring,test)"
   ]
  }
 ],
 "metadata": {
  "kernelspec": {
   "display_name": "Python 3",
   "language": "python",
   "name": "python3"
  },
  "language_info": {
   "codemirror_mode": {
    "name": "ipython",
    "version": 3
   },
   "file_extension": ".py",
   "mimetype": "text/x-python",
   "name": "python",
   "nbconvert_exporter": "python",
   "pygments_lexer": "ipython3",
   "version": "3.8.1"
  }
 },
 "nbformat": 4,
 "nbformat_minor": 4
}
