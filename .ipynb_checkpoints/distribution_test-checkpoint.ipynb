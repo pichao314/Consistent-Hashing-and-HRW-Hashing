{
 "cells": [
  {
   "cell_type": "code",
   "execution_count": 1,
   "metadata": {},
   "outputs": [],
   "source": [
    "from functools import wraps\n",
    "import mmh3"
   ]
  },
  {
   "cell_type": "code",
   "execution_count": 2,
   "metadata": {},
   "outputs": [],
   "source": [
    "# node with their sockets\n",
    "from server_config import NODES\n",
    "\n",
    "class NodeRing():\n",
    "    # creator of ring\n",
    "    def __init__(self, nodes):\n",
    "        assert len(nodes) > 0\n",
    "        self.nodes = nodes\n",
    "\n",
    "    # get node's socket by index\n",
    "    def get_node(self, key_hex):\n",
    "        # the md5 hash was digest by hex, so convert to int base on 16\n",
    "        key = int(key_hex, 16)\n",
    "        # get the node index by modulus\n",
    "        node_index = key % len(self.nodes)\n",
    "        # return the socket of the node\n",
    "        return self.nodes[node_index]\n",
    "\n",
    "    def hrw(self,key_hex):\n",
    "        weights = [mmh3.hash(key_hex,i) for i in range(len(NODES))]\n",
    "        node_index = weights.index(max(weights))\n",
    "        return self.nodes[node_index]"
   ]
  },
  {
   "cell_type": "code",
   "execution_count": 3,
   "metadata": {},
   "outputs": [],
   "source": [
    "def test():\n",
    "    # create a ring with provided Nodes sockets\n",
    "    ring = NodeRing(nodes=NODES)\n",
    "    # get the node socket of provided md5 hash value\n",
    "    node = ring.get_node('9ad5794ec94345c4873c4e591788743a')\n",
    "    print(node)\n",
    "    print(ring.get_node('ed9440c442632621b608521b3f2650b8'))\n",
    "    node2 = ring.hrw('9ad5794ec94345c4873c4e591788743a')\n",
    "    print(node2)\n",
    "    print(ring.hrw('ed9440c442632621b608521b3f2650b8'))"
   ]
  },
  {
   "cell_type": "code",
   "execution_count": 4,
   "metadata": {},
   "outputs": [
    {
     "name": "stdout",
     "output_type": "stream",
     "text": [
      "{'host': '127.0.0.1', 'port': 4002}\n",
      "{'host': '127.0.0.1', 'port': 4000}\n",
      "{'host': '127.0.0.1', 'port': 4003}\n",
      "{'host': '127.0.0.1', 'port': 4002}\n"
     ]
    }
   ],
   "source": [
    "test()"
   ]
  },
  {
   "cell_type": "code",
   "execution_count": 56,
   "metadata": {},
   "outputs": [],
   "source": [
    "import bisect\n",
    "class ConsistentHashing():\n",
    "    def __init__(self, nodes,replication_factor = 8):\n",
    "        assert len(nodes) > 0\n",
    "        self.nodes = nodes\n",
    "        self.M = pow(2,32)\n",
    "        self.rep = replication_factor\n",
    "        self.nodering = []\n",
    "        self.nodehash = {}\n",
    "        for node in self.nodes:\n",
    "            self.add_node(node)\n",
    "    def add_node(self,node):\n",
    "        _hash = mmh3.hash(str(node).encode()) % self.M\n",
    "        self.nodehash[_hash] = node\n",
    "        self.nodering.append(_hash)\n",
    "        for i in range(self.rep):\n",
    "            v_hash = mmh3.hash((str(node)+f\"#{i}\").encode()) % self.M\n",
    "            self.nodehash[v_hash] = node\n",
    "            self.nodering.append(v_hash)\n",
    "        self.nodering.sort()\n",
    "    def remove_node(self,node):\n",
    "        rmlist = []\n",
    "        _hash = mmh3.hash(str(node).encode()) % self.M\n",
    "        rmlist.append(nodering.append(_hash))\n",
    "        for i in range(self.rep):\n",
    "            v_hash = mmh3.hash((str(node)+f\"#{i}\").encode()) % self.M\n",
    "            rmlist.append(v_hash)\n",
    "        #find\n",
    "        for each in rmlist:\n",
    "            self.nodering.remove(each)\n",
    "            self.nodehash.pop(each)\n",
    "    def get_node(self, key):\n",
    "        k_hash = mmh3.hash(key) % self.M\n",
    "        n_i = bisect.bisect_left(self.nodering,k_hash)\n",
    "        node_list = []\n",
    "        node_list.append(self.nodehash[self.nodering[n_i]])\n",
    "        n_nxt = n_i + 1 % len(self.nodering)\n",
    "        while self.nodehash[self.nodering[n_i]] == self.nodehash[self.nodering[n_nxt]]:\n",
    "            n_nxt = (n_nxt + 1) % len(self.nodering)\n",
    "        node_list.append(self.nodehash[self.nodering[n_nxt]])\n",
    "        return node_list\n",
    "    def check(self):\n",
    "        print(self.nodering)\n",
    "        print(self.nodehash)\n",
    "    "
   ]
  },
  {
   "cell_type": "code",
   "execution_count": 57,
   "metadata": {},
   "outputs": [],
   "source": [
    "def test():\n",
    "    # create a ring with provided Nodes sockets\n",
    "    ring = ConsistentHashing(nodes=NODES)\n",
    "    # get the node socket of provided md5 hash value\n",
    "    node = ring.get_node('9ad5794ec94345c4873c4e591788743a')\n",
    "    print(node)\n",
    "    print(ring.get_node('ed9440c442632621b608521b3f2650b8'))"
   ]
  },
  {
   "cell_type": "code",
   "execution_count": 58,
   "metadata": {},
   "outputs": [
    {
     "name": "stdout",
     "output_type": "stream",
     "text": [
      "[{'host': '127.0.0.1', 'port': 4000}, {'host': '127.0.0.1', 'port': 4001}]\n",
      "[{'host': '127.0.0.1', 'port': 4000}, {'host': '127.0.0.1', 'port': 4002}]\n"
     ]
    }
   ],
   "source": [
    "test()"
   ]
  },
  {
   "cell_type": "code",
   "execution_count": null,
   "metadata": {},
   "outputs": [],
   "source": []
  }
 ],
 "metadata": {
  "kernelspec": {
   "display_name": "Python 3",
   "language": "python",
   "name": "python3"
  },
  "language_info": {
   "codemirror_mode": {
    "name": "ipython",
    "version": 3
   },
   "file_extension": ".py",
   "mimetype": "text/x-python",
   "name": "python",
   "nbconvert_exporter": "python",
   "pygments_lexer": "ipython3",
   "version": "3.8.1"
  }
 },
 "nbformat": 4,
 "nbformat_minor": 4
}
